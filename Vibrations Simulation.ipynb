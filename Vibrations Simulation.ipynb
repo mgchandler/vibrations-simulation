{
 "cells": [
  {
   "cell_type": "markdown",
   "id": "6bdc3540-faad-4ff6-9732-a96881586529",
   "metadata": {},
   "source": [
    "# Vibrations Simulation\n",
    "\n",
    "This notebook contains a demonstration of physical vibrating systems under various conditions. It was developed for use with the Vibrations component of the Dynamics and Control unit at the University of Bristol.\n",
    "\n",
    "The vibration simulated here considers three components: the spring force, the damping force, and the external load. The user is encouraged to adjust the parameters of each of these forces, as well as the initial conditions, to investigate the impact it has on the resulting vibration.\n",
    "\n",
    "The code is entirely contained within the accompanying script `vibrations.py`, which must be found in the same directory as this notebook."
   ]
  },
  {
   "cell_type": "markdown",
   "id": "855824d2-eee9-4cfd-b1dd-f83cff0c29f0",
   "metadata": {},
   "source": [
    "## Forces\n",
    "\n",
    "#### External forces\n",
    "\n",
    "The external forces available are described below:\n",
    "- Free Vibration\n",
    "  - There is no external force applied, i.e. $F = 0$.\n",
    "- Constant Force\n",
    "  - A constant force $F_0$ is activated after a delay of time $t_0$.\n",
    "- Sinusoidal\n",
    "  - An oscillating force $F = F_0 \\sin(2 \\pi f_{F0} t)$ with amplitude $F_0$ and frequency $f_{F0}$.\n",
    "\n",
    "#### Spring forces\n",
    "\n",
    "A linear spring force, which has expression $F = kx$ with stiffness constant $k$.\n",
    "\n",
    "#### Damping forces\n",
    "\n",
    "Three damping forces are available and are described below:\n",
    "- Linear Viscous\n",
    "  - Viscosity which is proportional to velocity $F = cv$, where $v = \\frac{dx}{dt}$ with damping constant $c$.\n",
    "- Friction (tanh)\n",
    "  - Hyperbolic tangent model of friction $F = F_f \\tanh(\\alpha v)$, where $F_f = |m g \\mu|$ and $\\alpha = \\tan^{-1}(F_r) / V_r$, with $F_r$ the portion of $F_f$ to be reached in $V_r$, and $V_r$ the velocity required to reach $F_f$ **(check w/ RH)**.\n",
    "- Friction (sqrt)\n",
    "  - Square root model of friction $F = \\frac{F_f v}{\\sqrt{\\epsilon^2 + v^2}}$, where $F_f = |m g \\mu|$ and $\\epsilon$ is some sort of error? **(RH)**"
   ]
  },
  {
   "cell_type": "markdown",
   "id": "fb9a95b2-eca1-4c9a-ba93-48691257eaf1",
   "metadata": {},
   "source": [
    "### Notes\n",
    "\n",
    "When investigating the different friction models, you may find that the plots take a long time to update. This is due to computational errors for extreme values - you are encouraged to explore why this might be."
   ]
  },
  {
   "cell_type": "code",
   "execution_count": 1,
   "id": "ffc6ca28-cd05-4e97-9e59-855d3920741c",
   "metadata": {
    "tags": []
   },
   "outputs": [
    {
     "data": {
      "application/vnd.jupyter.widget-view+json": {
       "model_id": "54e363e883ed497a8bdf7244b876bb6a",
       "version_major": 2,
       "version_minor": 0
      },
      "text/plain": [
       "HBox(children=(Output(), VBox(children=(HTMLMath(value='', description='Model equation:', layout=Layout(width=…"
      ]
     },
     "metadata": {},
     "output_type": "display_data"
    }
   ],
   "source": [
    "from vibrations import VibSimulation\n",
    "vib = VibSimulation()"
   ]
  },
  {
   "cell_type": "markdown",
   "id": "c157787f-9ea8-46d6-9574-4b945e8cd87c",
   "metadata": {},
   "source": []
  },
  {
   "cell_type": "code",
   "execution_count": 2,
   "id": "f3d12092-0afd-4ffd-a514-92ff1deb8d42",
   "metadata": {},
   "outputs": [],
   "source": []
  }
 ],
 "metadata": {
  "kernelspec": {
   "display_name": "Python 3 (ipykernel)",
   "language": "python",
   "name": "python3"
  },
  "language_info": {
   "codemirror_mode": {
    "name": "ipython",
    "version": 3
   },
   "file_extension": ".py",
   "mimetype": "text/x-python",
   "name": "python",
   "nbconvert_exporter": "python",
   "pygments_lexer": "ipython3",
   "version": "3.11.5"
  }
 },
 "nbformat": 4,
 "nbformat_minor": 5
}

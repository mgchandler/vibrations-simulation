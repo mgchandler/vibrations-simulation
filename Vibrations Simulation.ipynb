{
 "cells": [
  {
   "cell_type": "markdown",
   "id": "b3e1221d-73f9-40ea-8a03-c316d11fd58d",
   "metadata": {},
   "source": [
    "# Vibrations Simulation\n",
    "\n",
    "This notebook demonstrates a vibrating system under various conditions.\n",
    "\n",
    "Each of the parameters listed below will impact the system in some way, defined by the interaction between the external force, spring force and damping force which is modelled. The solution is obtained by solving the `solve_ivp` function from the `scipy.integrate` module. The displacement, velocity and acceleration responses are plotted in the time domain, as well as the individual component forces, and the solution in state space. The model is made interactive by use of the `ipywidgets` module.\n",
    "\n",
    "The code for the solution is contained in the accompanying `vibrations.py` script"
   ]
  },
  {
   "cell_type": "code",
   "execution_count": 1,
   "id": "ffc6ca28-cd05-4e97-9e59-855d3920741c",
   "metadata": {
    "tags": []
   },
   "outputs": [
    {
     "data": {
      "application/vnd.jupyter.widget-view+json": {
       "model_id": "b1199de29f3342789d6fa6135d7a2965",
       "version_major": 2,
       "version_minor": 0
      },
      "text/plain": [
       "HBox(children=(Output(), VBox(children=(HTMLMath(value='$0.0 = c v + k x$', description='Model expression:', l…"
      ]
     },
     "metadata": {},
     "output_type": "display_data"
    },
    {
     "data": {
      "text/plain": [
       "<vibrations.VibSimulation at 0x2242ffd8310>"
      ]
     },
     "execution_count": 1,
     "metadata": {},
     "output_type": "execute_result"
    }
   ],
   "source": [
    "import vibrations as vib\n",
    "vib.VibSimulation()"
   ]
  }
 ],
 "metadata": {
  "kernelspec": {
   "display_name": "Python 3 (ipykernel)",
   "language": "python",
   "name": "python3"
  },
  "language_info": {
   "codemirror_mode": {
    "name": "ipython",
    "version": 3
   },
   "file_extension": ".py",
   "mimetype": "text/x-python",
   "name": "python",
   "nbconvert_exporter": "python",
   "pygments_lexer": "ipython3",
   "version": "3.11.5"
  }
 },
 "nbformat": 4,
 "nbformat_minor": 5
}

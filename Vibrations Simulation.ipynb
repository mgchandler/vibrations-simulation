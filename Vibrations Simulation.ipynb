{
 "cells": [
  {
   "cell_type": "markdown",
   "id": "6bdc3540-faad-4ff6-9732-a96881586529",
   "metadata": {},
   "source": [
    "# Vibrations Simulation\n",
    "\n",
    "This notebook contains a demonstration of physical vibrating systems under various conditions. It was developed for use with the Vibrations component of the Dynamics and Control unit at the University of Bristol.\n",
    "\n",
    "The vibration simulated here considers three components: the spring force, the damping force, and the external load. The user is encouraged to adjust the parameters of each of these forces, as well as the initial conditions, to investigate the impact it has on the resulting vibration.\n",
    "\n",
    "The code is entirely contained within the accompanying script `vibrations.py`, which must be found in the same directory as this notebook."
   ]
  },
  {
   "cell_type": "markdown",
   "id": "855824d2-eee9-4cfd-b1dd-f83cff0c29f0",
   "metadata": {},
   "source": [
    "## Forces\n",
    "\n",
    "### External forces\n",
    "\n",
    "The external forces are a function of time $t$ and are described below:\n",
    "- Free Vibration\n",
    "  - There is no external force applied: $$ F(t) = 0. $$\n",
    "- Constant Force\n",
    "  - A constant force $F_0$ is activated after a delay of time $t_0$: $$ F(t) = \\cases{{F_0 \\text{ if } t > t_0} \\\\ {0 \\text{ otherwise}}}. $$\n",
    "- Sinusoidal\n",
    "  - An oscillating force with amplitude $F_0$ and frequency $f_{F0}$: $$ F(t) = F_0 \\sin(2 \\pi f_{F0} t). $$\n",
    "\n",
    "### Spring forces\n",
    "\n",
    "A linear spring force, with stiffness constant $k$ proportional to displacement $x$: $$ F(x) = kx. $$\n",
    "\n",
    "### Damping forces\n",
    "\n",
    "Four damping forces are available and are described below:\n",
    "- Linear Viscous\n",
    "  - Viscosity which is proportional to velocity $$ F(v) = cv, $$\n",
    "  where $v = \\frac{dx}{dt}$ and $c$ is the damping constant.\n",
    "- Friction (sign)\n",
    "  - Sign model of friction with equation $$ F(v) = F_f \\text{sign}(v), $$ where $F_f = |m g \\mu|$ is the magnitude of the friction force, $m$ is mass, $g=9.81 \\text{ms}^{-1}$ is the gravitational constant, and $\\mu$ is the coefficient of friction.\n",
    "- Friction (tanh)\n",
    "  - Hyperbolic tangent model of friction with equation $$ F(v) = F_f \\tanh(\\alpha v), $$\n",
    "  where $\\alpha$ is a coefficient with equation $$ \\alpha = \\frac{\\tan^{-1}(F_{prop})}{v_r} $$ which determines the rate at which the force approaches $F_f$, i.e. $F_{D,Coulomb}(v = v_r) = F_{prop} F_f$.\n",
    "- Friction (sqrt)\n",
    "  - Square root model of friction with equation $$ F(v) = \\frac{F_f v}{\\sqrt{\\epsilon^2 + v^2}}, $$ where $\\epsilon$ is a term which determines the rate at which force approaches $F_f$, i.e. $F_{D,Coulomb}(v = \\epsilon) = \\frac{F_f}{\\sqrt{2}}.$"
   ]
  },
  {
   "cell_type": "markdown",
   "id": "fb9a95b2-eca1-4c9a-ba93-48691257eaf1",
   "metadata": {},
   "source": [
    "### Notes\n",
    "\n",
    "When investigating the different friction models, you may find that the plots take a long time to update. This is due to computational errors for extreme values - you are encouraged to explore why this might be."
   ]
  },
  {
   "cell_type": "code",
   "execution_count": 1,
   "id": "ffc6ca28-cd05-4e97-9e59-855d3920741c",
   "metadata": {
    "tags": []
   },
   "outputs": [
    {
     "data": {
      "application/vnd.jupyter.widget-view+json": {
       "model_id": "9f6c593a15c2444aa86e3b5df792aa8c",
       "version_major": 2,
       "version_minor": 0
      },
      "text/plain": [
       "HBox(children=(Output(), VBox(children=(HTMLMath(value='', description='Model equation:', layout=Layout(width=…"
      ]
     },
     "metadata": {},
     "output_type": "display_data"
    }
   ],
   "source": [
    "from vibrations import VibSimulation\n",
    "vib = VibSimulation()"
   ]
  },
  {
   "cell_type": "markdown",
   "id": "c157787f-9ea8-46d6-9574-4b945e8cd87c",
   "metadata": {},
   "source": []
  },
  {
   "cell_type": "code",
   "execution_count": null,
   "id": "f3d12092-0afd-4ffd-a514-92ff1deb8d42",
   "metadata": {},
   "outputs": [],
   "source": []
  }
 ],
 "metadata": {
  "kernelspec": {
   "display_name": "Python 3 (ipykernel)",
   "language": "python",
   "name": "python3"
  },
  "language_info": {
   "codemirror_mode": {
    "name": "ipython",
    "version": 3
   },
   "file_extension": ".py",
   "mimetype": "text/x-python",
   "name": "python",
   "nbconvert_exporter": "python",
   "pygments_lexer": "ipython3",
   "version": "3.11.5"
  }
 },
 "nbformat": 4,
 "nbformat_minor": 5
}
